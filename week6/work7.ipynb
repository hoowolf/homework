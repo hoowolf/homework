{
 "cells": [
  {
   "cell_type": "code",
   "execution_count": 6,
   "metadata": {
    "ExecuteTime": {
     "end_time": "2024-10-19T14:31:31.597211Z",
     "start_time": "2024-10-19T14:31:31.588954Z"
    }
   },
   "outputs": [
    {
     "name": "stdout",
     "output_type": "stream",
     "text": [
      "语文平均分数: 82.6\n",
      "数学平均分数: 81.0\n",
      "英语平均分数: 81.8\n"
     ]
    }
   ],
   "source": [
    "import pandas as pd\n",
    "\n",
    "df = pd.read_csv(\"C:\\Datas\\stuGrade.csv\")\n",
    "\n",
    "chinese_average = df[\"chinese\"].mean()\n",
    "math_average = df[\"math\"].mean()\n",
    "english_average = df[\"english\"].mean()\n",
    "\n",
    "a = round(chinese_average, 2)\n",
    "b = round(math_average, 2)\n",
    "c = round(english_average, 2)\n",
    "print(\"语文平均分数:\", a)\n",
    "print(\"数学平均分数:\", b)\n",
    "print(\"英语平均分数:\", c)"
   ]
  }
 ],
 "metadata": {
  "kernelspec": {
   "display_name": "base",
   "language": "python",
   "name": "python3"
  },
  "language_info": {
   "name": "python",
   "version": "3.11.5"
  }
 },
 "nbformat": 4,
 "nbformat_minor": 2
}
