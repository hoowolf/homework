{
 "cells": [
  {
   "cell_type": "code",
   "execution_count": 2,
   "metadata": {
    "ExecuteTime": {
     "end_time": "2024-10-19T14:31:31.597211Z",
     "start_time": "2024-10-19T14:31:31.588954Z"
    }
   },
   "outputs": [
    {
     "name": "stdout",
     "output_type": "stream",
     "text": [
      "语文平均分数: 82.6\n",
      "数学平均分数: 81.0\n",
      "英语平均分数: 81.8\n"
     ]
    }
   ],
   "source": [
    "import pandas as pd\n",
    "from datetime import datetime\n",
    "import time\n",
    "\n",
    "df = pd.read_csv(r\"C:\\Datas\\stuGrade.csv\")\n",
    "\n",
    "chinese_average = df[\"chinese\"].mean()\n",
    "math_average = df[\"math\"].mean()\n",
    "english_average = df[\"english\"].mean()\n",
    "\n",
    "\n",
    "a = round(chinese_average, 2)\n",
    "b = round(math_average, 2)\n",
    "c = round(english_average, 2)\n",
    "\n",
    "print(\"语文平均分数:\", a)\n",
    "print(\"数学平均分数:\", b)\n",
    "print(\"英语平均分数:\", c)\n",
    "\n",
    "#写入 my.txt 文件\n",
    "with open('my.txt', 'w') as file:\n",
    "    file.write('童宇凡 10235501410\\n')\n",
    "    file.write(f'{a},{b},{c}\\n')\n",
    "    current_time = datetime.now()\n",
    "    formatted_time = current_time.strftime(\"%Y-%m-%d %H:%M:%S\")\n",
    "    file.write(formatted_time + '\\n')\n",
    "    time.sleep(2)\n",
    "    current_time1 = datetime.now()\n",
    "    formatted_time1 = current_time1.strftime(\"%Y-%m-%d %H:%M:%S\")\n",
    "    file.write(formatted_time1 + '\\n')\n",
    "    "
   ]
  }
 ],
 "metadata": {
  "kernelspec": {
   "display_name": "tmp",
   "language": "python",
   "name": "python3"
  },
  "language_info": {
   "codemirror_mode": {
    "name": "ipython",
    "version": 3
   },
   "file_extension": ".py",
   "mimetype": "text/x-python",
   "name": "python",
   "nbconvert_exporter": "python",
   "pygments_lexer": "ipython3",
   "version": "3.11.8"
  }
 },
 "nbformat": 4,
 "nbformat_minor": 2
}
