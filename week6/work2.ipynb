{
 "cells": [
  {
   "cell_type": "code",
   "execution_count": 2,
   "metadata": {},
   "outputs": [
    {
     "name": "stdout",
     "output_type": "stream",
     "text": [
      "[1, 2, 3, 4, 5, 6]\n"
     ]
    }
   ],
   "source": [
    "def insert_sort(lst):\n",
    "    if len(lst) < 2: return lst\n",
    "    \n",
    "    for i in range(1, len(lst)):\n",
    "        j = i - 1\n",
    "        key = lst[i]\n",
    "        while j >= 0:\n",
    "            if lst[j] > key:\n",
    "                lst[j+1] = lst[j]\n",
    "                j -= 1\n",
    "            else:\n",
    "                break\n",
    "        lst[j+1] = key\n",
    "    return lst\n",
    "\n",
    "lst = [5, 2, 4, 6, 1, 3]\n",
    "print(insert_sort(lst))"
   ]
  }
 ],
 "metadata": {
  "kernelspec": {
   "display_name": "Python 3",
   "language": "python",
   "name": "python3"
  },
  "language_info": {
   "codemirror_mode": {
    "name": "ipython",
    "version": 3
   },
   "file_extension": ".py",
   "mimetype": "text/x-python",
   "name": "python",
   "nbconvert_exporter": "python",
   "pygments_lexer": "ipython3",
   "version": "3.11.9"
  }
 },
 "nbformat": 4,
 "nbformat_minor": 2
}
