{
 "cells": [
  {
   "cell_type": "code",
   "execution_count": 4,
   "metadata": {},
   "outputs": [
    {
     "name": "stdout",
     "output_type": "stream",
     "text": [
      "[1, 2, 3, 5, 6, 7, 8]\n",
      "[3, 6, 7, 9, 12, 84]\n",
      "[48, 54, 324, 3838, 4385]\n"
     ]
    }
   ],
   "source": [
    "def partition(arr, p, r):\n",
    "    x = arr[r]\n",
    "    i = p - 1\n",
    "    for j in range(p, r):\n",
    "        if arr[j] <= x:\n",
    "            i = i + 1\n",
    "            arr[i], arr[j] = arr[j], arr[i]\n",
    "    arr[i+1], arr[r] = arr[r], arr[i+1]\n",
    "    return i+1\n",
    "    \n",
    "    \n",
    "def quicksort(arr, p, r):\n",
    "    if p < r:\n",
    "        q = partition(arr, p, r)\n",
    "        quicksort(arr, p, q-1)\n",
    "        quicksort(arr, q+1, r)\n",
    "    \n",
    "\n",
    "lst1 = [2, 8, 7, 1, 3, 5, 6]\n",
    "lst2 = [7, 84, 12, 3, 6, 9]\n",
    "lst3 = [54, 4385, 324, 48, 3838]\n",
    "quicksort(lst1, 0, len(lst1)-1)\n",
    "quicksort(lst2, 0, len(lst2)-1)\n",
    "quicksort(lst3, 0, len(lst3)-1)\n",
    "print(lst1)\n",
    "print(lst2)\n",
    "print(lst3)"
   ]
  }
 ],
 "metadata": {
  "kernelspec": {
   "display_name": "Python 3",
   "language": "python",
   "name": "python3"
  },
  "language_info": {
   "codemirror_mode": {
    "name": "ipython",
    "version": 3
   },
   "file_extension": ".py",
   "mimetype": "text/x-python",
   "name": "python",
   "nbconvert_exporter": "python",
   "pygments_lexer": "ipython3",
   "version": "3.11.9"
  }
 },
 "nbformat": 4,
 "nbformat_minor": 2
}
