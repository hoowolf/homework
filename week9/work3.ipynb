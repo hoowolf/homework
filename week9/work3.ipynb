{
 "cells": [
  {
   "cell_type": "code",
   "execution_count": 5,
   "metadata": {},
   "outputs": [
    {
     "name": "stdout",
     "output_type": "stream",
     "text": [
      "issue_comment     61205.5\n",
      "open_issue         9169.2\n",
      "open_pull         16912.7\n",
      "review_comment    19857.5\n",
      "merged_pull       13764.1\n",
      "dtype: float64\n",
      "issue_comment     341409.4\n",
      "open_issue         43300.2\n",
      "open_pull          83423.0\n",
      "review_comment    120392.1\n",
      "merged_pull        62472.0\n",
      "dtype: float64\n"
     ]
    }
   ],
   "source": [
    "import pandas as pd\n",
    "\n",
    "df_China = pd.read_csv('china_2022.csv')\n",
    "df_global = pd.read_csv('global_2022.csv')\n",
    "\n",
    "print(df_China.filter(items = ['issue_comment', 'open_issue', 'open_pull', 'review_comment', 'merged_pull']).mean())\n",
    "print(df_global.filter(items = ['issue_comment', 'open_issue', 'open_pull', 'review_comment', 'merged_pull']).mean())"
   ]
  },
  {
   "cell_type": "markdown",
   "metadata": {},
   "source": [
    "比较2022年中国开源领域排名前十的企业和开源领域全球前十的的企业的'issue_comment', 'open_issue', 'open_pull', 'review_comment', 'merged_pull'的平均值，发现中国企业的平均值远比全球顶尖企业的平均值低，说明中国开源领域的发展相比全球，还是有劣势，需要继续发展，同时，阿里和百度两家中国企业进入全球榜单，中国头部企业进步明显"
   ]
  },
  {
   "cell_type": "code",
   "execution_count": 10,
   "metadata": {},
   "outputs": [
    {
     "name": "stdout",
     "output_type": "stream",
     "text": [
      "平均市值：\n",
      "40269.534\n",
      "215855.491\n",
      "最小市值变化：\n",
      "2329.36\n",
      "-47388.58\n"
     ]
    }
   ],
   "source": [
    "print(\"平均市值：\")\n",
    "print(df_China['value'].mean())\n",
    "print(df_global['value'].mean())\n",
    "print(\"最小市值变化：\")\n",
    "print(df_China['valueDelta'].min())\n",
    "print(df_global['valueDelta'].min())"
   ]
  },
  {
   "cell_type": "markdown",
   "metadata": {},
   "source": [
    "中国企业的平均价值相对于全球处于劣势，但一些国际企业市值降低明显，而中国企业提升明显，说明中国企业发展迅速。"
   ]
  }
 ],
 "metadata": {
  "kernelspec": {
   "display_name": "tmp",
   "language": "python",
   "name": "python3"
  },
  "language_info": {
   "codemirror_mode": {
    "name": "ipython",
    "version": 3
   },
   "file_extension": ".py",
   "mimetype": "text/x-python",
   "name": "python",
   "nbconvert_exporter": "python",
   "pygments_lexer": "ipython3",
   "version": "3.11.8"
  }
 },
 "nbformat": 4,
 "nbformat_minor": 2
}
