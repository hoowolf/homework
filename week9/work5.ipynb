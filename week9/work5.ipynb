{
 "cells": [
  {
   "cell_type": "code",
   "execution_count": 1,
   "metadata": {},
   "outputs": [
    {
     "name": "stdout",
     "output_type": "stream",
     "text": [
      "概率为：0.7777777777777778\n"
     ]
    }
   ],
   "source": [
    "pa = 0.5\n",
    "pa_neg = 0.5\n",
    "pb_a = 0.35\n",
    "pb_a_neg = 0.1\n",
    "pba = pa * pb_a\n",
    "pba_neg = pa_neg * pb_a_neg\n",
    "pb = pba + pba_neg\n",
    "pa_b = pba / pb\n",
    "print(f\"概率为：{pa_b}\")\n"
   ]
  }
 ],
 "metadata": {
  "kernelspec": {
   "display_name": "tmp",
   "language": "python",
   "name": "python3"
  },
  "language_info": {
   "codemirror_mode": {
    "name": "ipython",
    "version": 3
   },
   "file_extension": ".py",
   "mimetype": "text/x-python",
   "name": "python",
   "nbconvert_exporter": "python",
   "pygments_lexer": "ipython3",
   "version": "3.11.8"
  }
 },
 "nbformat": 4,
 "nbformat_minor": 2
}
