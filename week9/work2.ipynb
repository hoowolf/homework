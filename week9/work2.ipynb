{
 "cells": [
  {
   "cell_type": "code",
   "execution_count": 4,
   "metadata": {},
   "outputs": [
    {
     "name": "stdout",
     "output_type": "stream",
     "text": [
      "MicrosoftDocs/azure-docs的增长率为: -27.83%\n",
      "NixOS/nixpkgs的增长率为: -3.23%\n",
      "dotnet/runtime的增长率为: -35.22%\n",
      "elastic/kibana的增长率为: -15.13%\n",
      "firstcontributions/first-contributions的增长率为: 4.30%\n",
      "flutter/flutter的增长率为: -21.69%\n",
      "home-assistant/core的增长率为: 3.25%\n",
      "microsoft/vscode的增长率为: 18.63%\n",
      "pytorch/pytorch的增长率为: 11.37%\n",
      "rust-lang/rust的增长率为: -10.01%\n"
     ]
    }
   ],
   "source": [
    "import pandas as pd\n",
    "\n",
    "df = pd.read_csv('activity_2022.csv')\n",
    "\n",
    "for i in range(len(df)):\n",
    "    average_increase = (df.iloc[i, 12] - df.iloc[i, 1]) / df.iloc[i, 12] * 100\n",
    "    print(f\"{df.iloc[i, 0]}的增长率为: {average_increase:.2f}%\")"
   ]
  }
 ],
 "metadata": {
  "kernelspec": {
   "display_name": "tmp",
   "language": "python",
   "name": "python3"
  },
  "language_info": {
   "codemirror_mode": {
    "name": "ipython",
    "version": 3
   },
   "file_extension": ".py",
   "mimetype": "text/x-python",
   "name": "python",
   "nbconvert_exporter": "python",
   "pygments_lexer": "ipython3",
   "version": "3.11.8"
  }
 },
 "nbformat": 4,
 "nbformat_minor": 2
}
