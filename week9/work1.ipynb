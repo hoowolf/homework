{
 "cells": [
  {
   "cell_type": "code",
   "execution_count": 2,
   "metadata": {},
   "outputs": [
    {
     "name": "stdout",
     "output_type": "stream",
     "text": [
      "最大值为：1394.45\n",
      "最小值为：200.68\n",
      "平均值为：346.9679\n",
      "中位数为：273.66999999999996\n"
     ]
    }
   ],
   "source": [
    "import pandas as pd\n",
    "\n",
    "df = pd.read_csv('open_rank_20236.csv')\n",
    "\n",
    "max = df['value'].max()\n",
    "min = df['value'].min()\n",
    "mean = df['value'].mean()\n",
    "median = df['value'].median()\n",
    "print(f\"最大值为：{max}\")\n",
    "print(f\"最小值为：{min}\")\n",
    "print(f\"平均值为：{mean}\")\n",
    "print(f\"中位数为：{median}\")\n"
   ]
  }
 ],
 "metadata": {
  "kernelspec": {
   "display_name": "tmp",
   "language": "python",
   "name": "python3"
  },
  "language_info": {
   "codemirror_mode": {
    "name": "ipython",
    "version": 3
   },
   "file_extension": ".py",
   "mimetype": "text/x-python",
   "name": "python",
   "nbconvert_exporter": "python",
   "pygments_lexer": "ipython3",
   "version": "3.11.8"
  }
 },
 "nbformat": 4,
 "nbformat_minor": 2
}
