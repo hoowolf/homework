{
 "cells": [
  {
   "cell_type": "code",
   "execution_count": 12,
   "metadata": {},
   "outputs": [
    {
     "name": "stdout",
     "output_type": "stream",
     "text": [
      "hhhhhh\n",
      "yyyy\n",
      "uuu\n",
      "dd\n",
      "tt\n",
      "Yes\n"
     ]
    }
   ],
   "source": [
    "str = \"abdsvbhbdvbhhhhhhdgyyyydgfygfuuuddgvgett\"\n",
    "i = 0\n",
    "count = 0\n",
    "while i < len(str)-1:\n",
    "    j = i +1\n",
    "    while j < len(str) and str[i] == str[j]:\n",
    "        j += 1\n",
    "    if j - i > 1:\n",
    "        print(str[i:j])\n",
    "        count += 1\n",
    "    \n",
    "    i = j;\n",
    "if count == 0: \n",
    "    print(\"No\") \n",
    "else:\n",
    "    print(\"Yes\")   \n",
    "    "
   ]
  }
 ],
 "metadata": {
  "kernelspec": {
   "display_name": "Python 3",
   "language": "python",
   "name": "python3"
  },
  "language_info": {
   "codemirror_mode": {
    "name": "ipython",
    "version": 3
   },
   "file_extension": ".py",
   "mimetype": "text/x-python",
   "name": "python",
   "nbconvert_exporter": "python",
   "pygments_lexer": "ipython3",
   "version": "3.11.9"
  }
 },
 "nbformat": 4,
 "nbformat_minor": 2
}
