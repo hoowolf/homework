{
 "cells": [
  {
   "cell_type": "code",
   "execution_count": 19,
   "metadata": {},
   "outputs": [
    {
     "name": "stdout",
     "output_type": "stream",
     "text": [
      "★★★★★★★★★★★\n",
      "★数据科学与工程导论★\n",
      "★★★★★★★★★★★\n"
     ]
    }
   ],
   "source": [
    "print(chr(0x2605), end=\"\")\n",
    "print(chr(0x2605), end=\"\")\n",
    "print(chr(0x2605), end=\"\")\n",
    "print(chr(0x2605), end=\"\")\n",
    "print(chr(0x2605), end=\"\")\n",
    "print(chr(0x2605), end=\"\")\n",
    "print(chr(0x2605), end=\"\")\n",
    "print(chr(0x2605), end=\"\")\n",
    "print(chr(0x2605), end=\"\")\n",
    "print(chr(0x2605), end=\"\")\n",
    "print(chr(0x2605))\n",
    "print(chr(0x2605), end=\"\")\n",
    "print(\"数据科学与工程导论\", end=\"\")\n",
    "print(chr(0x2605))\n",
    "print(chr(0x2605), end=\"\")\n",
    "print(chr(0x2605), end=\"\")\n",
    "print(chr(0x2605), end=\"\")\n",
    "print(chr(0x2605), end=\"\")\n",
    "print(chr(0x2605), end=\"\")\n",
    "print(chr(0x2605), end=\"\")\n",
    "print(chr(0x2605), end=\"\")\n",
    "print(chr(0x2605), end=\"\")\n",
    "print(chr(0x2605), end=\"\")\n",
    "print(chr(0x2605), end=\"\")\n",
    "print(chr(0x2605))\n"
   ]
  },
  {
   "cell_type": "markdown",
   "metadata": {},
   "source": [
    "在 Python 中，如果想要不换行地输出内容，可以使用 print 函数的 end 参数。默认情况下，print 函数会在输出结束后添加一个换行符,而end可以设置以什么结尾。"
   ]
  }
 ],
 "metadata": {
  "kernelspec": {
   "display_name": "Python 3",
   "language": "python",
   "name": "python3"
  },
  "language_info": {
   "codemirror_mode": {
    "name": "ipython",
    "version": 3
   },
   "file_extension": ".py",
   "mimetype": "text/x-python",
   "name": "python",
   "nbconvert_exporter": "python",
   "pygments_lexer": "ipython3",
   "version": "3.11.9"
  }
 },
 "nbformat": 4,
 "nbformat_minor": 2
}
