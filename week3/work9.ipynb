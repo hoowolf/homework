{
 "cells": [
  {
   "cell_type": "code",
   "execution_count": 4,
   "metadata": {},
   "outputs": [
    {
     "name": "stdout",
     "output_type": "stream",
     "text": [
      "2.0000000000120624\n"
     ]
    }
   ],
   "source": [
    "def f(x, n):\n",
    "    return x**3 - n\n",
    "\n",
    "def df(x):\n",
    "    return 3*x**2\n",
    "\n",
    "def newton(n, e):\n",
    "    x1 = 1.0\n",
    "    x2 = x1 - f(x1, n)/df(x1)\n",
    "    max = 1000\n",
    "    i = 0\n",
    "    while abs(x2 - x1) > e and i < max:\n",
    "        x1 = x2\n",
    "        x2 = x2 - f(x2, n)/df(x2)\n",
    "        i += 1\n",
    "    return x2\n",
    "\n",
    "print(newton(8, 0.0001))    "
   ]
  }
 ],
 "metadata": {
  "kernelspec": {
   "display_name": "Python 3",
   "language": "python",
   "name": "python3"
  },
  "language_info": {
   "codemirror_mode": {
    "name": "ipython",
    "version": 3
   },
   "file_extension": ".py",
   "mimetype": "text/x-python",
   "name": "python",
   "nbconvert_exporter": "python",
   "pygments_lexer": "ipython3",
   "version": "3.11.9"
  }
 },
 "nbformat": 4,
 "nbformat_minor": 2
}
