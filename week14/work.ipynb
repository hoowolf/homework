{
 "cells": [
  {
   "cell_type": "code",
   "execution_count": 1,
   "metadata": {},
   "outputs": [
    {
     "name": "stdout",
     "output_type": "stream",
     "text": [
      "<class 'pandas.core.frame.DataFrame'>\n",
      "RangeIndex: 10086 entries, 0 to 10085\n",
      "Data columns (total 19 columns):\n",
      " #   Column                 Non-Null Count  Dtype  \n",
      "---  ------                 --------------  -----  \n",
      " 0   contain_IP             9996 non-null   float64\n",
      " 1   is_long                9997 non-null   float64\n",
      " 2   is_tinyurl             9998 non-null   float64\n",
      " 3   contain_at             10004 non-null  float64\n",
      " 4   contain_double_slash   9970 non-null   float64\n",
      " 5   contain_dash           9992 non-null   float64\n",
      " 6   contain_subdomain      9989 non-null   float64\n",
      " 7   is_SSL                 9990 non-null   float64\n",
      " 8   with_long_history      7291 non-null   float64\n",
      " 9   contain_icon           8728 non-null   float64\n",
      " 10  contain_ext_domain     8559 non-null   float64\n",
      " 11  contain_email_to       8007 non-null   float64\n",
      " 12  allow_right_click      6679 non-null   float64\n",
      " 13  contain_pop_up_window  9807 non-null   float64\n",
      " 14  contain_Iframe         9427 non-null   float64\n",
      " 15  has_DNSRecord          8885 non-null   float64\n",
      " 16  traffic                8579 non-null   float64\n",
      " 17  google_rank            9422 non-null   float64\n",
      " 18  y                      10086 non-null  int64  \n",
      "dtypes: float64(18), int64(1)\n",
      "memory usage: 1.5 MB\n",
      "None\n"
     ]
    }
   ],
   "source": [
    "import pandas as pd\n",
    "\n",
    "df = pd.read_csv('fraudulent.csv')\n",
    "\n",
    "print(df.info())\n",
    "\n"
   ]
  },
  {
   "cell_type": "code",
   "execution_count": 2,
   "metadata": {},
   "outputs": [
    {
     "name": "stdout",
     "output_type": "stream",
     "text": [
      "<class 'pandas.core.frame.DataFrame'>\n",
      "RangeIndex: 10086 entries, 0 to 10085\n",
      "Data columns (total 17 columns):\n",
      " #   Column                 Non-Null Count  Dtype  \n",
      "---  ------                 --------------  -----  \n",
      " 0   contain_IP             10086 non-null  float64\n",
      " 1   is_long                10086 non-null  float64\n",
      " 2   is_tinyurl             10086 non-null  float64\n",
      " 3   contain_at             10086 non-null  float64\n",
      " 4   contain_double_slash   10086 non-null  float64\n",
      " 5   contain_dash           10086 non-null  float64\n",
      " 6   contain_subdomain      10086 non-null  float64\n",
      " 7   is_SSL                 10086 non-null  float64\n",
      " 8   contain_icon           10086 non-null  float64\n",
      " 9   contain_ext_domain     10086 non-null  float64\n",
      " 10  contain_email_to       10086 non-null  float64\n",
      " 11  contain_pop_up_window  10086 non-null  float64\n",
      " 12  contain_Iframe         10086 non-null  float64\n",
      " 13  has_DNSRecord          10086 non-null  float64\n",
      " 14  traffic                10086 non-null  float64\n",
      " 15  google_rank            10086 non-null  float64\n",
      " 16  y                      10086 non-null  int64  \n",
      "dtypes: float64(16), int64(1)\n",
      "memory usage: 1.3 MB\n",
      "None\n"
     ]
    }
   ],
   "source": [
    "# 删除缺失值太多的列\n",
    "df.drop(columns=['with_long_history','allow_right_click'],inplace=True)\n",
    "# 用众数填充缺失值\n",
    "df = df.fillna(df.mode().iloc[0])\n",
    "\n",
    "print(df.info())\n"
   ]
  },
  {
   "cell_type": "code",
   "execution_count": 3,
   "metadata": {},
   "outputs": [
    {
     "name": "stdout",
     "output_type": "stream",
     "text": [
      "0.85\n"
     ]
    }
   ],
   "source": [
    "from sklearn.model_selection import train_test_split\n",
    "from sklearn.metrics import f1_score\n",
    "from sklearn.linear_model import LogisticRegression\n",
    "import numpy as np\n",
    "\n",
    "# 转换为numpy数组\n",
    "df_np = df.to_numpy()\n",
    "\n",
    "# 获得x,y\n",
    "X = df_np[:,:-1]\n",
    "y = df_np[:,-1]\n",
    "\n",
    "# 将数据分为训练集、测试集\n",
    "X_train,X_test,y_train,y_test = train_test_split(X,y,test_size=0.2,random_state=1)\n",
    "\n",
    "# 二分类模型\n",
    "model = LogisticRegression()\n",
    "model.fit(X_train,y_train)\n",
    "\n",
    "# 预测\n",
    "y_pred = model.predict(X_test)\n",
    "\n",
    "# F1分数\n",
    "\n",
    "f1 = f1_score(y_test,y_pred)\n",
    "\n",
    "print(f1)\n",
    "\n"
   ]
  },
  {
   "cell_type": "code",
   "execution_count": 4,
   "metadata": {},
   "outputs": [
    {
     "name": "stderr",
     "output_type": "stream",
     "text": [
      "c:\\Users\\89172\\anaconda3\\envs\\tmp\\Lib\\site-packages\\joblib\\externals\\loky\\backend\\context.py:150: UserWarning: Could not find the number of physical cores for the following reason:\n",
      "'utf-8' codec can't decode byte 0xb5 in position 24: invalid start byte\n",
      "Returning the number of logical cores instead. You can silence this warning by setting LOKY_MAX_CPU_COUNT to the number of cores you want to use.\n",
      "  warnings.warn(\n",
      "  File \"c:\\Users\\89172\\anaconda3\\envs\\tmp\\Lib\\site-packages\\joblib\\externals\\loky\\backend\\context.py\", line 230, in _count_physical_cores\n",
      "    cpu_info = cpu_info.stdout.decode('utf-8').splitlines()\n",
      "               ^^^^^^^^^^^^^^^^^^^^^^^^^^^^^^^\n"
     ]
    },
    {
     "name": "stdout",
     "output_type": "stream",
     "text": [
      "0.8400621118012422\n"
     ]
    }
   ],
   "source": [
    "# k近邻模型\n",
    "from sklearn.neighbors import KNeighborsClassifier\n",
    "\n",
    "model = KNeighborsClassifier()\n",
    "model.fit(X_train,y_train)\n",
    "\n",
    "y_pred = model.predict(X_test)\n",
    "\n",
    "f1 = f1_score(y_test,y_pred)\n",
    "\n",
    "print(f1)\n"
   ]
  },
  {
   "cell_type": "code",
   "execution_count": 5,
   "metadata": {},
   "outputs": [
    {
     "name": "stdout",
     "output_type": "stream",
     "text": [
      "0.8676236044657097\n"
     ]
    }
   ],
   "source": [
    "# 决策树模型\n",
    "from sklearn.tree import DecisionTreeClassifier\n",
    "\n",
    "model = DecisionTreeClassifier()\n",
    "model.fit(X_train,y_train)\n",
    "\n",
    "y_pred = model.predict(X_test)\n",
    "\n",
    "f1 = f1_score(y_test,y_pred)\n",
    "\n",
    "print(f1)\n",
    "\n"
   ]
  },
  {
   "cell_type": "code",
   "execution_count": 6,
   "metadata": {},
   "outputs": [
    {
     "name": "stdout",
     "output_type": "stream",
     "text": [
      "0.8585131894484412\n"
     ]
    }
   ],
   "source": [
    "# 支持向量机\n",
    "from sklearn.svm import SVC\n",
    "\n",
    "model = SVC()\n",
    "model.fit(X_train,y_train)\n",
    "\n",
    "y_pred = model.predict(X_test)\n",
    "\n",
    "f1 = f1_score(y_test,y_pred)\n",
    "\n",
    "print(f1)\n",
    "\n"
   ]
  }
 ],
 "metadata": {
  "kernelspec": {
   "display_name": "tmp",
   "language": "python",
   "name": "python3"
  },
  "language_info": {
   "codemirror_mode": {
    "name": "ipython",
    "version": 3
   },
   "file_extension": ".py",
   "mimetype": "text/x-python",
   "name": "python",
   "nbconvert_exporter": "python",
   "pygments_lexer": "ipython3",
   "version": "3.11.8"
  }
 },
 "nbformat": 4,
 "nbformat_minor": 2
}
