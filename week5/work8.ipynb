{
 "cells": [
  {
   "cell_type": "code",
   "execution_count": 4,
   "metadata": {},
   "outputs": [
    {
     "name": "stdout",
     "output_type": "stream",
     "text": [
      "Invalid ID\n"
     ]
    }
   ],
   "source": [
    "import re\n",
    "def validate_id_card(id):\n",
    "    pattern = r\"^[1-9]\\d{5}(19|20)(0[1-9]|1[0-2])(0[1-9]|[1-2]\\d|3[0-1])\\d{3}(\\d|X|x)$\"\n",
    "    match = re.match(pattern, id)\n",
    "    \n",
    "    if match:\n",
    "        print(\"Valid ID\")\n",
    "    else:\n",
    "        print(\"Invalid ID\")\n",
    "    \n",
    "validate_id_card('33010319900101000x')"
   ]
  }
 ],
 "metadata": {
  "kernelspec": {
   "display_name": "Python 3",
   "language": "python",
   "name": "python3"
  },
  "language_info": {
   "codemirror_mode": {
    "name": "ipython",
    "version": 3
   },
   "file_extension": ".py",
   "mimetype": "text/x-python",
   "name": "python",
   "nbconvert_exporter": "python",
   "pygments_lexer": "ipython3",
   "version": "3.11.9"
  }
 },
 "nbformat": 4,
 "nbformat_minor": 2
}
