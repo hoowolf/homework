{
 "cells": [
  {
   "cell_type": "code",
   "execution_count": 1,
   "metadata": {},
   "outputs": [
    {
     "name": "stdout",
     "output_type": "stream",
     "text": [
      "45\n",
      "-1\n",
      "-1\n"
     ]
    }
   ],
   "source": [
    "def second_large(numbers):\n",
    "    if len(numbers) < 2:\n",
    "        return -1\n",
    "    \n",
    "    # 去除重复元素\n",
    "    unique_numbers = list(set(numbers))\n",
    "    if len(unique_numbers) < 2:\n",
    "        return -1\n",
    "    unique_numbers.sort()\n",
    "    return unique_numbers[-2]\n",
    "\n",
    "print(second_large([10, 20, 4, 45, 99]))\n",
    "print(second_large([100]))\n",
    "print(second_large([]))               "
   ]
  }
 ],
 "metadata": {
  "kernelspec": {
   "display_name": "Python 3",
   "language": "python",
   "name": "python3"
  },
  "language_info": {
   "codemirror_mode": {
    "name": "ipython",
    "version": 3
   },
   "file_extension": ".py",
   "mimetype": "text/x-python",
   "name": "python",
   "nbconvert_exporter": "python",
   "pygments_lexer": "ipython3",
   "version": "3.11.9"
  }
 },
 "nbformat": 4,
 "nbformat_minor": 2
}
