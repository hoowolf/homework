{
 "cells": [
  {
   "cell_type": "code",
   "execution_count": 3,
   "metadata": {},
   "outputs": [
    {
     "name": "stdout",
     "output_type": "stream",
     "text": [
      "11001.1"
     ]
    }
   ],
   "source": [
    "def trans(x):\n",
    "    a = int(x)\n",
    "    b = x - a\n",
    "    a_binary = []\n",
    "    if a == 0:\n",
    "        a_binary.append(0)\n",
    "    while a > 0:\n",
    "        a_binary.append(a % 2)\n",
    "        a = a // 2\n",
    "        \n",
    "    b_binary = []\n",
    "    if b == 0:\n",
    "        b_binary.append(0)\n",
    "        \n",
    "    while b > 0:\n",
    "        b_binary.append(int(b * 2))\n",
    "        b = b * 2 - int(b * 2)\n",
    "    \n",
    "    reversed_a_binary = a_binary[::-1]\n",
    "    for i in range(len(a_binary)):\n",
    "        print(reversed_a_binary[i], end = \"\")\n",
    "    print(\".\", end = \"\")\n",
    "    for i in range(len(b_binary)):\n",
    "        print(b_binary[i], end = \"\")\n",
    "        \n",
    "\n",
    "trans(25.5)"
   ]
  }
 ],
 "metadata": {
  "kernelspec": {
   "display_name": "Python 3",
   "language": "python",
   "name": "python3"
  },
  "language_info": {
   "codemirror_mode": {
    "name": "ipython",
    "version": 3
   },
   "file_extension": ".py",
   "mimetype": "text/x-python",
   "name": "python",
   "nbconvert_exporter": "python",
   "pygments_lexer": "ipython3",
   "version": "3.11.9"
  }
 },
 "nbformat": 4,
 "nbformat_minor": 2
}
