{
 "cells": [
  {
   "cell_type": "code",
   "execution_count": 1,
   "metadata": {},
   "outputs": [
    {
     "name": "stdout",
     "output_type": "stream",
     "text": [
      "良好\n"
     ]
    }
   ],
   "source": [
    "sacnf = input(\"请输入成绩：\")\n",
    "grade = int(sacnf)\n",
    "if grade >= 90:\n",
    "    print(\"优秀\")\n",
    "\n",
    "elif grade < 90 and grade >= 75:\n",
    "    print(\"良好\")\n",
    "\n",
    "elif grade < 75 and grade >= 60:\n",
    "    print(\"合格\")\n",
    "\n",
    "else:\n",
    "    print(\"不合格\")\n",
    "    "
   ]
  }
 ],
 "metadata": {
  "kernelspec": {
   "display_name": "Python 3",
   "language": "python",
   "name": "python3"
  },
  "language_info": {
   "codemirror_mode": {
    "name": "ipython",
    "version": 3
   },
   "file_extension": ".py",
   "mimetype": "text/x-python",
   "name": "python",
   "nbconvert_exporter": "python",
   "pygments_lexer": "ipython3",
   "version": "3.11.9"
  }
 },
 "nbformat": 4,
 "nbformat_minor": 2
}
